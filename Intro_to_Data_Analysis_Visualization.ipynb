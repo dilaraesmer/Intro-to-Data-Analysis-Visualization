{
  "nbformat": 4,
  "nbformat_minor": 0,
  "metadata": {
    "colab": {
      "name": "Intro to Data Analysis / Visualization",
      "private_outputs": true,
      "provenance": [],
      "collapsed_sections": []
    },
    "kernelspec": {
      "name": "python3",
      "display_name": "Python 3"
    },
    "language_info": {
      "name": "python"
    }
  },
  "cells": [
    {
      "cell_type": "code",
      "execution_count": null,
      "metadata": {
        "id": "8Hu0xnASIwBO"
      },
      "outputs": [],
      "source": [
        "import pandas as pd\n",
        "from matplotlib import pyplot as plt"
      ]
    },
    {
      "cell_type": "code",
      "source": [
        "x = [1,2,3]\n",
        "y = [1,4,9]\n",
        "plt.plot(x,y)\n",
        "plt.title(\"test plot\") # Grafiğin başlığı belirtildi.\n",
        "plt.xlabel(\"x\") # x eksenine isim verildi\n",
        "plt.ylabel(\"y\") # y eksenine \"y\" etiketi yazıldı.\n",
        "plt.show() # Grafiğin çizimi gösterir."
      ],
      "metadata": {
        "id": "20paidE8LII-"
      },
      "execution_count": null,
      "outputs": []
    },
    {
      "cell_type": "code",
      "source": [
        "from pyparsing.core import ZeroOrMore\n",
        "x = [1,2,3]\n",
        "y = [1,4,9]\n",
        "z = [10,5,0]\n",
        "plt.plot(x,y)\n",
        "plt.plot(x,z)\n",
        "plt.title(\"test plot\")\n",
        "plt.xlabel(\"x\")\n",
        "plt.ylabel(\"y and z\")\n",
        "plt.legend([\"this is y\", \"this is z\"]) # argüman olarak listeleri alır.\n",
        "plt.show()"
      ],
      "metadata": {
        "id": "3BNFXX2pNjdL"
      },
      "execution_count": null,
      "outputs": []
    },
    {
      "cell_type": "code",
      "source": [
        "sample_data = pd.read_csv('sample_data.csv') # csv türündeki veri setinin okunmasını sağlar."
      ],
      "metadata": {
        "id": "WEOKZH4lRwFv"
      },
      "execution_count": null,
      "outputs": []
    },
    {
      "cell_type": "code",
      "source": [
        "sample_data"
      ],
      "metadata": {
        "id": "KCNAXoGRTJ-H"
      },
      "execution_count": null,
      "outputs": []
    },
    {
      "cell_type": "code",
      "source": [
        "type(sample_data) # pandas modulünde veri tipi data frame olan bir veri setidir."
      ],
      "metadata": {
        "id": "vcN-tgaXupUa"
      },
      "execution_count": null,
      "outputs": []
    },
    {
      "cell_type": "code",
      "source": [
        "sample_data.column_c # veri setindeki belirtilen sütunu indisiyle görüntüler."
      ],
      "metadata": {
        "id": "aPrxRjACdyCV"
      },
      "execution_count": null,
      "outputs": []
    },
    {
      "cell_type": "code",
      "source": [
        "sample_data.column_c.iloc[0] # veri setindeki özellikle belirtilen indisi bir değer görüntüler."
      ],
      "metadata": {
        "id": "eFBdcOgPgHMi"
      },
      "execution_count": null,
      "outputs": []
    },
    {
      "cell_type": "code",
      "source": [
        "plt.plot(sample_data.column_a, sample_data.column_b)\n",
        "plt.show()"
      ],
      "metadata": {
        "id": "K8kKDzwhiFBI"
      },
      "execution_count": null,
      "outputs": []
    },
    {
      "cell_type": "code",
      "source": [
        "plt.plot(sample_data.column_a, sample_data.column_b)\n",
        "plt.plot(sample_data.column_a, sample_data.column_c)\n",
        "plt.show()"
      ],
      "metadata": {
        "id": "J1ItEUU-ias7"
      },
      "execution_count": null,
      "outputs": []
    },
    {
      "cell_type": "code",
      "source": [
        "plt.plot(sample_data.column_a, sample_data.column_b, 'o') # 'o' karaketer tanımla için kullanılıyor. Veriyi daire şeklinde gösterir.\n",
        "plt.plot(sample_data.column_a, sample_data.column_c)\n",
        "plt.show()"
      ],
      "metadata": {
        "id": "_ivecFXli291"
      },
      "execution_count": null,
      "outputs": []
    },
    {
      "cell_type": "code",
      "source": [
        "data = pd.read_csv('countries.csv')"
      ],
      "metadata": {
        "id": "gGhkktIgkBnr"
      },
      "execution_count": null,
      "outputs": []
    },
    {
      "cell_type": "code",
      "source": [
        "data"
      ],
      "metadata": {
        "id": "7_XhQ9xWm9Hf"
      },
      "execution_count": null,
      "outputs": []
    },
    {
      "cell_type": "code",
      "source": [
        "# Amerikada ve Çindeki nüfus artışını karşılaştıracağız."
      ],
      "metadata": {
        "id": "l7hlJvxjnu2s"
      },
      "execution_count": null,
      "outputs": []
    },
    {
      "cell_type": "code",
      "source": [
        "us = data[data.country == 'United States'] \n",
        "# veri setindeki Amerika'ya ait olan verileri gösterir."
      ],
      "metadata": {
        "id": "tZ9gSJVwoKDl"
      },
      "execution_count": null,
      "outputs": []
    },
    {
      "cell_type": "code",
      "source": [
        "us"
      ],
      "metadata": {
        "id": "pldUjJxro7VW"
      },
      "execution_count": null,
      "outputs": []
    },
    {
      "cell_type": "code",
      "source": [
        "china = data[data.country == 'China']"
      ],
      "metadata": {
        "id": "Mj6ruXnLqBiQ"
      },
      "execution_count": null,
      "outputs": []
    },
    {
      "cell_type": "code",
      "source": [
        "china"
      ],
      "metadata": {
        "id": "xyrYfXAUqMO7"
      },
      "execution_count": null,
      "outputs": []
    },
    {
      "cell_type": "code",
      "source": [
        "plt.plot(us.year, us.population / 10**6)\n",
        "plt.plot(china.year, china.population / 10**6)\n",
        "plt.legend(['United States', 'China'])\n",
        "plt.xlabel('year')\n",
        "plt.ylabel('population')\n",
        "plt.show()\n",
        "# nüfus sayısı burada bağımlı değişken y oluyor. \n",
        "# bağımsız değişken yatay eksendeki x de yıl olmuş oldu."
      ],
      "metadata": {
        "id": "R4DX8LzWqWDg"
      },
      "execution_count": null,
      "outputs": []
    },
    {
      "cell_type": "code",
      "source": [
        "us.population # seri olarak verileri gösterir."
      ],
      "metadata": {
        "id": "iUKJycHQuOnn"
      },
      "execution_count": null,
      "outputs": []
    },
    {
      "cell_type": "code",
      "source": [
        "us.population / us.population.iloc[0] * 100"
      ],
      "metadata": {
        "id": "qXCJp7YpsmtT"
      },
      "execution_count": null,
      "outputs": []
    },
    {
      "cell_type": "code",
      "source": [
        "plt.plot(us.year, us.population / us.population.iloc[0] * 100)\n",
        "plt.plot(china.year, china.population / china.population.iloc[0] * 100)\n",
        "plt.legend(['United States', 'China'])\n",
        "plt.xlabel('year')\n",
        "plt.ylabel('population growth (first year = 100) ')\n",
        "plt.show()\n",
        "# nüfus artışı burada bağımlı değişken y oluyor. \n",
        "# bağımsız değişken yatay eksendeki x de yıl olmuş oldu."
      ],
      "metadata": {
        "id": "D7jZg_ShvQP5"
      },
      "execution_count": null,
      "outputs": []
    }
  ]
}